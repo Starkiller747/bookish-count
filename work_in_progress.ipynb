{
 "cells": [
  {
   "cell_type": "code",
   "execution_count": 4,
   "id": "27102be7-f274-4e5d-a117-20868b5c706f",
   "metadata": {},
   "outputs": [],
   "source": [
    "import pandas as pd\n",
    "file_path = 'TheCountofMonteCristo.txt'"
   ]
  },
  {
   "cell_type": "code",
   "execution_count": 5,
   "id": "145258e0-481e-44cb-b111-3d31cb2a2206",
   "metadata": {},
   "outputs": [],
   "source": [
    "with open(file_path, 'r', encoding='utf-8') as f:\n",
    "    text = f.read()"
   ]
  },
  {
   "cell_type": "code",
   "execution_count": 6,
   "id": "053cb224-9fff-449d-9357-f24e45f2f5b9",
   "metadata": {},
   "outputs": [
    {
     "name": "stdout",
     "output_type": "stream",
     "text": [
      "2616449\n"
     ]
    }
   ],
   "source": [
    "print(len(text))"
   ]
  },
  {
   "cell_type": "code",
   "execution_count": 7,
   "id": "02ffcae7-0492-42b5-afcd-05aba1d4ab7d",
   "metadata": {},
   "outputs": [
    {
     "name": "stdout",
     "output_type": "stream",
     "text": [
      "\n",
      " !\"$&'()*,-.0123456789:;?ABCDEFGHIJKLMNOPQRSTUVWXYZ[]`abcdefghijklmnopqrstuvwxyz\n",
      "81\n"
     ]
    }
   ],
   "source": [
    "# see the different characters in the text\n",
    "chars = sorted(list(set(text)))\n",
    "vocab_size = len(chars)\n",
    "print(''.join(chars))\n",
    "print(vocab_size)"
   ]
  },
  {
   "cell_type": "code",
   "execution_count": 8,
   "id": "7eea34b6-536e-4292-a79e-9e9620aa0aad",
   "metadata": {},
   "outputs": [
    {
     "name": "stdout",
     "output_type": "stream",
     "text": [
      "[33, 59, 66, 66, 69, 1, 77, 69, 72, 66, 58]\n",
      "Hello world\n"
     ]
    }
   ],
   "source": [
    "# create a mapping for the encode and decode of the characters\n",
    "stoi = { ch:i for i, ch in enumerate(chars) }\n",
    "itos = { i:ch for i, ch in enumerate(chars) }\n",
    "encode = lambda s: [stoi[c] for c in s] # take a string, output a list of integers\n",
    "decode = lambda l: ''.join([itos[i] for i in l]) # take a string of integers, output a string\n",
    "\n",
    "print(encode('Hello world'))\n",
    "print(decode(encode('Hello world')))"
   ]
  },
  {
   "cell_type": "code",
   "execution_count": 9,
   "id": "42547e23-cbe4-4750-9ca7-e1bf13a92125",
   "metadata": {},
   "outputs": [
    {
     "name": "stdout",
     "output_type": "stream",
     "text": [
      "torch.Size([2616449]) <built-in method type of Tensor object at 0x7652837c2810>\n",
      "tensor([ 0, 28, 62, 55, 70, 74, 59, 72,  1, 14,  0,  0, 38, 55, 72, 73, 59, 63,\n",
      "        66, 66, 59, 73,  1, 11, 11,  1, 45, 62, 59,  1, 26, 72, 72, 63, 76, 55,\n",
      "        66,  0,  0, 40, 68,  1, 74, 62, 59,  1, 15, 17, 74, 62,  1, 69, 60,  1,\n",
      "        31, 59, 56, 72, 75, 55, 72, 79, 10,  1, 14, 21, 14, 13, 10,  1, 74, 62,\n",
      "        59,  1, 66, 69, 69, 65, 11, 69, 75, 74,  1, 55, 74,  1, 57, 69, 67, 70,\n",
      "        69, 73, 59, 58,  1, 74, 62, 59,  1, 57, 72, 59, 77, 10,  1, 73, 70, 72,\n",
      "        55, 68, 61,  1, 74, 69,  1, 74, 62, 59, 63, 72,  1, 72, 59, 73, 70, 59,\n",
      "        57, 74, 63, 76, 59,  1, 73, 74, 55, 74, 63, 69, 68, 73,  1, 55, 74,  1,\n",
      "        74, 62, 59,  0, 39, 69, 74, 72, 59, 11, 29, 55, 67, 59,  1, 58, 59,  1,\n",
      "        66, 55,  1, 32, 55, 72, 58, 59,  1, 73, 63, 61, 68, 55, 66, 66, 59, 58,\n",
      "         1, 74, 62, 59,  1, 74, 62, 72, 59, 59, 11, 67, 55, 73, 74, 59, 72, 10,\n",
      "         1, 74, 62, 59,  1, 73, 70, 55, 68, 65, 59, 72,  1, 56, 72, 55, 63, 66,\n",
      "        73,  1, 55, 68, 58,  1, 69, 75, 74, 62, 55, 75, 66, 10,  1, 74, 69, 70,\n",
      "        73, 55, 63, 66,  1, 73, 62, 59, 59, 74, 73,  1, 55, 68, 58,  1, 62, 55,\n",
      "        66, 79, 55, 72, 58, 73, 10,  1, 74, 62, 59,  0, 41, 62, 55, 72, 55, 69,\n",
      "        68,  1, 60, 72, 69, 67,  1, 44, 67, 79, 72, 68, 55, 10,  1, 45, 72, 63,\n",
      "        59, 73, 74, 59, 10,  1, 55, 68, 58,  1, 39, 55, 70, 66, 59, 73, 12,  0,\n",
      "        64, 63, 56,  1, 58, 69, 77, 68, 62, 55, 75, 66, 10,  1, 55, 68, 58,  1,\n",
      "        74, 62, 59,  1, 74, 69, 70, 73, 55, 63, 66,  1, 57, 66, 59, 77, 66, 63,\n",
      "        68, 59, 73,  1, 55, 68, 58,  1, 56, 75, 68, 74, 66, 63, 68, 59, 73, 12,\n",
      "         1, 45, 62, 59,  0, 79, 69, 75, 68, 61,  1, 73, 55, 63, 66, 69, 72,  1,\n",
      "        61, 55, 76, 59,  1, 55,  1, 66, 69, 69, 65,  1, 74, 69,  1, 73, 59, 59,\n",
      "         1, 74, 62, 55, 74,  1, 62, 63, 73,  1, 69, 72, 58, 59, 72, 73,  1, 77,\n",
      "        59, 72, 59,  0, 26, 73,  1, 75, 73, 75, 55, 66, 10,  1, 55,  1, 70, 63,\n",
      "        66, 69, 74,  1, 70, 75, 74,  1, 69, 60, 60,  1, 63, 67, 67, 59, 58, 63,\n",
      "        55, 74, 59, 66, 79, 10,  1, 55, 68, 58,  1, 72, 69, 75, 68, 58, 63, 68,\n",
      "        61,  1, 74, 62, 59,  0, 70, 72, 69, 67, 70, 74, 66, 79,  1, 55, 68, 58,\n",
      "         1, 55, 57, 57, 75, 72, 55, 74, 59, 66, 79,  1, 69, 56, 59, 79, 59, 58,\n",
      "        10,  1, 55, 68, 58,  1, 74, 62, 59, 68,  1, 74, 75, 72, 68, 59, 58,  1,\n",
      "        55, 61, 55, 63, 68,  1, 74, 69,  0, 28, 62, 55, 74, 59, 55, 75,  1, 58,\n",
      "         6, 34, 60, 10,  1, 61, 69, 74,  1, 69, 68,  1, 56, 69, 55, 72, 58,  1,\n",
      "        74, 62, 59,  1, 76, 59, 73, 73, 59, 66,  1, 56, 59, 74, 77, 59, 59, 68,\n",
      "         1, 28, 55, 70, 59,  1, 38, 69, 72, 61, 63, 69, 68,  0, 74, 62, 59,  1,\n",
      "        69, 77, 68, 59, 72, 12,  0, 55, 68, 58,  1, 43, 63, 69, 68,  1, 63, 73,\n",
      "        66, 55, 68, 58, 12,  0,  3, 26, 68, 58,  1, 62, 69, 77,  1, 58, 63, 58,\n",
      "         1, 74, 62, 63, 73,  1, 67, 63, 73, 60, 69, 72, 74, 75, 68, 59,  1, 69,\n",
      "        57, 57, 75, 72, 25,  3,  1, 63, 68, 71, 75, 63, 72, 59, 58,  1, 74, 62,\n",
      "        59,  1, 66, 55, 74, 74, 59, 72, 10,  0, 34, 67, 67, 59, 58, 63, 55, 74,\n",
      "        59, 66, 79, 10,  1, 55, 68, 58,  1, 55, 57, 57, 69, 72, 58, 63, 68, 61,\n",
      "         1, 74, 69,  1, 57, 75, 73, 74, 69, 67, 10,  1, 74, 62, 59,  1, 72, 55,\n",
      "        67, 70, 55, 72, 74, 73,  1, 69, 60,  1, 31, 69, 72, 74,  0, 72, 59, 73,\n",
      "        75, 67, 63, 68, 61,  1, 74, 62, 59,  1, 63, 68, 74, 59, 72, 72, 75, 70,\n",
      "        74, 59, 58,  1, 57, 69, 68, 76, 59, 72, 73, 55, 74, 63, 69, 68, 12,  0,\n",
      "        44, 55, 63, 68, 74, 11, 35, 59, 55, 68,  1, 77, 59, 72, 59,  1, 57, 69,\n",
      "        76, 59, 72, 59, 58,  1, 77, 63, 74, 62,  1, 73, 70, 59, 57, 74, 55, 74,\n",
      "        69, 72, 73, 24,  1, 63, 74,  1, 63, 73,  1, 55, 66, 77, 55, 79, 73,  1,\n",
      "        55, 68,  0, 59, 76, 59, 68, 74,  1, 55, 74,  1, 38, 55, 72, 73, 59, 63,\n",
      "        66, 66, 59, 73,  1, 60, 69, 72,  1, 55,  1, 73, 62, 63, 70,  1, 74, 69,\n",
      "         1, 57, 69, 67, 59,  1, 63, 68, 74, 69,  1, 70, 69, 72, 74, 10,  1, 59,\n",
      "        73, 70, 59, 57, 63, 55, 66, 66, 79,  1,  3, 26, 66, 55, 73, 10,  1, 73,\n",
      "        63, 72, 10,  1, 63, 68,  1, 74, 62, 59,  1, 67, 69, 73, 74,  1, 75, 68,\n",
      "        59, 78, 70, 59, 57, 74, 59, 58,  1, 67, 55, 68, 68, 59, 72, 12,  1, 26,\n",
      "        60, 74, 59, 72,  1, 55,  1, 66, 69, 68, 61,  1, 74, 55, 66, 65,  0, 77,\n",
      "        62, 59, 68,  1, 74, 62, 63, 73,  1, 73, 62, 63, 70, 10,  1, 66, 63, 65,\n",
      "        59,  1, 74, 62, 59,  1, 41, 62, 55, 72, 55, 69, 68, 10,  1, 62, 55, 73,\n",
      "         1, 56, 59, 59, 68,  1, 56, 75, 63, 66])\n"
     ]
    }
   ],
   "source": [
    "# now we encode the text and store it in a pytorch tensor\n",
    "import torch\n",
    "data = torch.tensor(encode(text), dtype=torch.long)\n",
    "print(data.shape, data.type)\n",
    "print(data[:1000])"
   ]
  },
  {
   "cell_type": "code",
   "execution_count": 10,
   "id": "bdf3659b-9507-4025-8ce0-940708ebdfce",
   "metadata": {},
   "outputs": [],
   "source": [
    "# separating the dataset into a train and a test dataset\n",
    "n = int(0.9*len(data))\n",
    "train_data = data[:n]\n",
    "val_data = data[n:]"
   ]
  },
  {
   "cell_type": "code",
   "execution_count": 11,
   "id": "da051fba-b44c-4c71-97bd-9439b48fa0e8",
   "metadata": {},
   "outputs": [
    {
     "data": {
      "text/plain": [
       "tensor([ 0, 28, 62, 55, 70, 74, 59, 72,  1])"
      ]
     },
     "execution_count": 11,
     "metadata": {},
     "output_type": "execute_result"
    }
   ],
   "source": [
    "block_size = 8\n",
    "train_data[:block_size + 1]"
   ]
  },
  {
   "cell_type": "code",
   "execution_count": 12,
   "id": "b108c473-0d22-4cf5-91b4-390112efcad3",
   "metadata": {},
   "outputs": [
    {
     "name": "stdout",
     "output_type": "stream",
     "text": [
      "when the input is tensor([0]) the target is: 28\n",
      "when the input is tensor([ 0, 28]) the target is: 62\n",
      "when the input is tensor([ 0, 28, 62]) the target is: 55\n",
      "when the input is tensor([ 0, 28, 62, 55]) the target is: 70\n",
      "when the input is tensor([ 0, 28, 62, 55, 70]) the target is: 74\n",
      "when the input is tensor([ 0, 28, 62, 55, 70, 74]) the target is: 59\n",
      "when the input is tensor([ 0, 28, 62, 55, 70, 74, 59]) the target is: 72\n",
      "when the input is tensor([ 0, 28, 62, 55, 70, 74, 59, 72]) the target is: 1\n"
     ]
    }
   ],
   "source": [
    "x = train_data[:block_size]\n",
    "y = train_data[1:block_size + 1]\n",
    "for t in range(block_size):\n",
    "    context = x[:t+1]\n",
    "    target=y[t]\n",
    "    print(f\"when the input is {context} the target is: {target}\")"
   ]
  },
  {
   "cell_type": "code",
   "execution_count": 29,
   "id": "40326a86-359d-4ca5-988c-fc6688872039",
   "metadata": {},
   "outputs": [
    {
     "name": "stdout",
     "output_type": "stream",
     "text": [
      "inputs:\n",
      "torch.Size([4, 8])\n",
      "tensor([[73, 69, 67, 59, 74, 62, 63, 68],\n",
      "        [59,  1, 67, 63, 68, 63, 73, 74],\n",
      "        [62, 63, 67,  1, 54, 59, 78, 57],\n",
      "        [73, 74,  1, 77, 63, 74, 62,  1]])\n",
      "outputs:\n",
      "torch.Size([4, 8])\n",
      "tensor([[69, 67, 59, 74, 62, 63, 68, 61],\n",
      "        [ 1, 67, 63, 68, 63, 73, 74, 59],\n",
      "        [63, 67,  1, 54, 59, 78, 57, 59],\n",
      "        [74,  1, 77, 63, 74, 62,  1, 72]])\n",
      "---\n",
      "when input is [73] the target is: 69\n",
      "when input is [73, 69] the target is: 67\n",
      "when input is [73, 69, 67] the target is: 59\n",
      "when input is [73, 69, 67, 59] the target is: 74\n",
      "when input is [73, 69, 67, 59, 74] the target is: 62\n",
      "when input is [73, 69, 67, 59, 74, 62] the target is: 63\n",
      "when input is [73, 69, 67, 59, 74, 62, 63] the target is: 68\n",
      "when input is [73, 69, 67, 59, 74, 62, 63, 68] the target is: 61\n",
      "when input is [59] the target is: 1\n",
      "when input is [59, 1] the target is: 67\n",
      "when input is [59, 1, 67] the target is: 63\n",
      "when input is [59, 1, 67, 63] the target is: 68\n",
      "when input is [59, 1, 67, 63, 68] the target is: 63\n",
      "when input is [59, 1, 67, 63, 68, 63] the target is: 73\n",
      "when input is [59, 1, 67, 63, 68, 63, 73] the target is: 74\n",
      "when input is [59, 1, 67, 63, 68, 63, 73, 74] the target is: 59\n",
      "when input is [62] the target is: 63\n",
      "when input is [62, 63] the target is: 67\n",
      "when input is [62, 63, 67] the target is: 1\n",
      "when input is [62, 63, 67, 1] the target is: 54\n",
      "when input is [62, 63, 67, 1, 54] the target is: 59\n",
      "when input is [62, 63, 67, 1, 54, 59] the target is: 78\n",
      "when input is [62, 63, 67, 1, 54, 59, 78] the target is: 57\n",
      "when input is [62, 63, 67, 1, 54, 59, 78, 57] the target is: 59\n",
      "when input is [73] the target is: 74\n",
      "when input is [73, 74] the target is: 1\n",
      "when input is [73, 74, 1] the target is: 77\n",
      "when input is [73, 74, 1, 77] the target is: 63\n",
      "when input is [73, 74, 1, 77, 63] the target is: 74\n",
      "when input is [73, 74, 1, 77, 63, 74] the target is: 62\n",
      "when input is [73, 74, 1, 77, 63, 74, 62] the target is: 1\n",
      "when input is [73, 74, 1, 77, 63, 74, 62, 1] the target is: 72\n"
     ]
    }
   ],
   "source": [
    "torch.manual_seed(777)\n",
    "batch_size = 4 # independent sequences\n",
    "block_size = 8 # length of each sequence\n",
    "\n",
    "def get_batch(split):\n",
    "    # generate a small batch of data of inputs x and targets y\n",
    "    data = train_data if split == 'train' else val_data\n",
    "    ix = torch.randint(len(data) - block_size, (batch_size,))\n",
    "    x = torch.stack([data[i:i+block_size] for i in ix])\n",
    "    y = torch.stack([data[i+1:i+block_size+1] for i in ix])\n",
    "    return x,y\n",
    "\n",
    "xb, yb = get_batch('train')\n",
    "print('inputs:')\n",
    "print(xb.shape)\n",
    "print(xb)\n",
    "print('outputs:')\n",
    "print(yb.shape)\n",
    "print(yb)\n",
    "\n",
    "print('---')\n",
    "\n",
    "for b in range(batch_size):\n",
    "    for t in range(block_size):\n",
    "        context = xb[b, :t+1]\n",
    "        target = yb[b,t]\n",
    "        print(f\"when input is {context.tolist()} the target is: {target}\")"
   ]
  },
  {
   "cell_type": "code",
   "execution_count": 35,
   "id": "0717fb11-64f5-4f70-aa67-d2844255d9ba",
   "metadata": {},
   "outputs": [
    {
     "name": "stdout",
     "output_type": "stream",
     "text": [
      "torch.Size([32, 81])\n",
      "tensor(5.3115, grad_fn=<NllLossBackward0>)\n",
      "\n",
      "zO*;u?O*'LYnd0tY6y'\"v\n",
      "2(!xzo6732NU238A FoSg?l3AkKU]Y 7;L2ZlW\n",
      "mg3Xu&'(CQ(C4v2nDfZO)EcLYQNEHiAPZ,v9f41 i2Z,*xtyFAG7`v((\"JZN:UWbR*4P3M4x6rIZh!Yo\"zS$k;awahC40QV3bJo),7hC-y!HgL$e-iX)4x!)Wa[z[OPG$P[-\"p8A8ehNFADpjpdv\n",
      ":hxY\n",
      "TQFA`qhNc`C'OrkzD\n",
      "3?55B8Q*(4s7)zV8.\n",
      "rmvxm;Sz*r-lirCX'!DGZ`mQp!62Q,n5MJZy20uqxCnyNmh?5OBBRj]$bczRx`;y;mJLYjcXF[uXl*2QC4q(Mp(!(h[,vyaw] ABsFo\"e-JAkz[-A!GJZ?]&tOUO)\n",
      "EwDV8y'1DnSbe2ty4!((8r&\n"
     ]
    }
   ],
   "source": [
    "# setting up the bigram language model\n",
    "import torch\n",
    "import torch.nn as nn\n",
    "from torch.nn import functional as F\n",
    "torch.manual_seed(1337)\n",
    "\n",
    "class BigramLanguageModel(nn.Module):\n",
    "\n",
    "    def __init__(self, vocab_size):\n",
    "        super().__init__()\n",
    "        # each token directly reads off the logits for the next token from a lookup table\n",
    "        self.token_embedding_table = nn.Embedding(vocab_size, vocab_size)\n",
    "\n",
    "    def forward(self, idx, targets=None):\n",
    "\n",
    "        # idx and targets are both (B,T) tensor of integers\n",
    "        logits = self.token_embedding_table(idx) # (B,T,C)\n",
    "\n",
    "        if targets is None:\n",
    "            loss = None\n",
    "        else:\n",
    "            B, T, C = logits.shape\n",
    "            logits = logits.view(B*T, C)\n",
    "            targets = targets.view(B*T)\n",
    "            loss = F.cross_entropy(logits, targets)\n",
    "\n",
    "        return logits, loss\n",
    "\n",
    "    def generate(self, idx, max_new_tokens):\n",
    "        # idx is (B, T) array of indices in the current context\n",
    "        for _ in range(max_new_tokens):\n",
    "            # get the predictions\n",
    "            logits, loss = self(idx)\n",
    "            # focus only on the last time step\n",
    "            logits = logits[:, -1, :] # becomes (B, C)\n",
    "            # apply softmax to get probabilities\n",
    "            probs = F.softmax(logits, dim=-1) # (B, C)\n",
    "            # sample from the distribution\n",
    "            idx_next = torch.multinomial(probs, num_samples=1) # (B, 1)\n",
    "            # append sampled index to the running sequence\n",
    "            idx = torch.cat((idx, idx_next), dim=1) # (B, T+1)\n",
    "        return idx\n",
    "\n",
    "m = BigramLanguageModel(vocab_size)\n",
    "logits, loss = m(xb, yb)\n",
    "print(logits.shape)\n",
    "print(loss)\n",
    "\n",
    "print(decode(m.generate(idx = torch.zeros((1, 1), dtype=torch.long), max_new_tokens=400)[0].tolist()))"
   ]
  },
  {
   "cell_type": "code",
   "execution_count": 36,
   "id": "a4182499-f9eb-44f3-be8b-94b6f12d1258",
   "metadata": {},
   "outputs": [],
   "source": [
    "# we need to train the model to make it make sense\n",
    "\n",
    "# create a PyTorch optimizer\n",
    "optimizer = torch.optim.AdamW(m.parameters(), lr=1e-3)"
   ]
  },
  {
   "cell_type": "code",
   "execution_count": 42,
   "id": "f08471f6-fa1e-4a17-b7b0-53b73ae79dc3",
   "metadata": {},
   "outputs": [
    {
     "name": "stdout",
     "output_type": "stream",
     "text": [
      "2.5781688690185547\n"
     ]
    }
   ],
   "source": [
    "batch_size = 32\n",
    "for steps in range(10000): # increase number of steps for good results...\n",
    "\n",
    "    # sample a batch of data\n",
    "    xb, yb = get_batch('train')\n",
    "\n",
    "    # evaluate the loss\n",
    "    logits, loss = m(xb, yb)\n",
    "    optimizer.zero_grad(set_to_none=True)\n",
    "    loss.backward()\n",
    "    optimizer.step()\n",
    "\n",
    "print(loss.item())"
   ]
  },
  {
   "cell_type": "code",
   "execution_count": 43,
   "id": "33dc8b06-51fc-46e8-ba19-6d0d3e44effd",
   "metadata": {},
   "outputs": [
    {
     "name": "stdout",
     "output_type": "stream",
     "text": [
      "\n",
      "\"I u in stritourerthedstealoce thitrteedit ande henttes, thrreve\n",
      "\n",
      "mpenowde Lur gmeatoronowe oe as cul\n",
      "pas t ntobeatouned\n",
      "ced In'Thutin tousr sunt.\"\n",
      "\"`ngens, weng, mit l, Ad, ang.\n",
      "we bluime 7ZRoshers maich,\n",
      "pan\n",
      "\"\n",
      "Antocrt t PYo it becucugouty; he e, s itharbonaven ast Itirchedaseras. -- thevise\n",
      "e lary t we.\n",
      "s il t? wi, p.\"sheanes oned coryon tharefrsilllie ne\n",
      "\"w, g g reres hiaghend cre\n",
      "\n",
      "\n",
      "s The ce pt\n"
     ]
    }
   ],
   "source": [
    "print(decode(m.generate(idx = torch.zeros((1, 1), dtype=torch.long), max_new_tokens=400)[0].tolist()))"
   ]
  },
  {
   "cell_type": "code",
   "execution_count": null,
   "id": "70500178-ddf6-4e78-88b9-bca1ad1611fe",
   "metadata": {},
   "outputs": [],
   "source": []
  }
 ],
 "metadata": {
  "kernelspec": {
   "display_name": "Python 3 (ipykernel)",
   "language": "python",
   "name": "python3"
  },
  "language_info": {
   "codemirror_mode": {
    "name": "ipython",
    "version": 3
   },
   "file_extension": ".py",
   "mimetype": "text/x-python",
   "name": "python",
   "nbconvert_exporter": "python",
   "pygments_lexer": "ipython3",
   "version": "3.11.5"
  }
 },
 "nbformat": 4,
 "nbformat_minor": 5
}
