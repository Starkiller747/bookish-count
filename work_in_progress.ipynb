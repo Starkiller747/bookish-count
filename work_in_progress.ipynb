{
 "cells": [
  {
   "cell_type": "code",
   "execution_count": 25,
   "id": "27102be7-f274-4e5d-a117-20868b5c706f",
   "metadata": {},
   "outputs": [],
   "source": [
    "import pandas as pd\n",
    "file_path = 'TheCountofMonteCristo.txt'"
   ]
  },
  {
   "cell_type": "code",
   "execution_count": 26,
   "id": "145258e0-481e-44cb-b111-3d31cb2a2206",
   "metadata": {},
   "outputs": [],
   "source": [
    "with open(file_path, 'r', encoding='utf-8') as f:\n",
    "    text = f.read()"
   ]
  },
  {
   "cell_type": "code",
   "execution_count": 27,
   "id": "053cb224-9fff-449d-9357-f24e45f2f5b9",
   "metadata": {},
   "outputs": [
    {
     "name": "stdout",
     "output_type": "stream",
     "text": [
      "2616449\n"
     ]
    }
   ],
   "source": [
    "print(len(text))"
   ]
  },
  {
   "cell_type": "code",
   "execution_count": 28,
   "id": "02ffcae7-0492-42b5-afcd-05aba1d4ab7d",
   "metadata": {},
   "outputs": [
    {
     "name": "stdout",
     "output_type": "stream",
     "text": [
      " !\"$&'()*,-.0123456789:;?ABCDEFGHIJKLMNOPQRSTUVWXYZ[]`abcdefghijklmnopqrstuvwxyz\n",
      "80\n"
     ]
    }
   ],
   "source": [
    "# see the different characters in the text\n",
    "chars = sorted(list(set(text)))\n",
    "vocab_size = len(chars)\n",
    "print(''.join(chars))\n",
    "print(vocab_size)"
   ]
  },
  {
   "cell_type": "code",
   "execution_count": 29,
   "id": "7eea34b6-536e-4292-a79e-9e9620aa0aad",
   "metadata": {},
   "outputs": [
    {
     "name": "stdout",
     "output_type": "stream",
     "text": [
      "[32, 58, 65, 65, 68, 0, 76, 68, 71, 65, 57]\n",
      "Hello world\n"
     ]
    }
   ],
   "source": [
    "# create a mapping for the encode and decode of the characters\n",
    "stoi = { ch:i for i, ch in enumerate(chars) }\n",
    "itos = { i:ch for i, ch in enumerate(chars) }\n",
    "encode = lambda s: [stoi[c] for c in s] # take a string, output a list of integers\n",
    "decode = lambda l: ''.join([itos[i] for i in l]) # take a string of integers, output a string\n",
    "\n",
    "print(encode('Hello world'))\n",
    "print(decode(encode('Hello world')))"
   ]
  },
  {
   "cell_type": "code",
   "execution_count": 30,
   "id": "42547e23-cbe4-4750-9ca7-e1bf13a92125",
   "metadata": {},
   "outputs": [
    {
     "name": "stdout",
     "output_type": "stream",
     "text": [
      "torch.Size([2616449]) <built-in method type of Tensor object at 0x7a7cf5881130>\n",
      "tensor([ 0, 27, 61, 54, 69, 73, 58, 71,  0, 13,  0,  0, 37, 54, 71, 72, 58, 62,\n",
      "        65, 65, 58, 72,  0, 10, 10,  0, 44, 61, 58,  0, 25, 71, 71, 62, 75, 54,\n",
      "        65,  0,  0, 39, 67,  0, 73, 61, 58,  0, 14, 16, 73, 61,  0, 68, 59,  0,\n",
      "        30, 58, 55, 71, 74, 54, 71, 78,  9,  0, 13, 20, 13, 12,  9,  0, 73, 61,\n",
      "        58,  0, 65, 68, 68, 64, 10, 68, 74, 73,  0, 54, 73,  0, 56, 68, 66, 69,\n",
      "        68, 72, 58, 57,  0, 73, 61, 58,  0, 56, 71, 58, 76,  9,  0, 72, 69, 71,\n",
      "        54, 67, 60,  0, 73, 68,  0, 73, 61, 58, 62, 71,  0, 71, 58, 72, 69, 58,\n",
      "        56, 73, 62, 75, 58,  0, 72, 73, 54, 73, 62, 68, 67, 72,  0, 54, 73,  0,\n",
      "        73, 61, 58,  0, 38, 68, 73, 71, 58, 10, 28, 54, 66, 58,  0, 57, 58,  0,\n",
      "        65, 54,  0, 31, 54, 71, 57, 58,  0, 72, 62, 60, 67, 54, 65, 65, 58, 57,\n",
      "         0, 73, 61, 58,  0, 73, 61, 71, 58, 58, 10, 66, 54, 72, 73, 58, 71,  9,\n",
      "         0, 73, 61, 58,  0, 72, 69, 54, 67, 64, 58, 71,  0, 55, 71, 54, 62, 65,\n",
      "        72,  0, 54, 67, 57,  0, 68, 74, 73, 61, 54, 74, 65,  9,  0, 73, 68, 69,\n",
      "        72, 54, 62, 65,  0, 72, 61, 58, 58, 73, 72,  0, 54, 67, 57,  0, 61, 54,\n",
      "        65, 78, 54, 71, 57, 72,  9,  0, 73, 61, 58,  0, 40, 61, 54, 71, 54, 68,\n",
      "        67,  0, 59, 71, 68, 66,  0, 43, 66, 78, 71, 67, 54,  9,  0, 44, 71, 62,\n",
      "        58, 72, 73, 58,  9,  0, 54, 67, 57,  0, 38, 54, 69, 65, 58, 72, 11,  0,\n",
      "        63, 62, 55,  0, 57, 68, 76, 67, 61, 54, 74, 65,  9,  0, 54, 67, 57,  0,\n",
      "        73, 61, 58,  0, 73, 68, 69, 72, 54, 62, 65,  0, 56, 65, 58, 76, 65, 62,\n",
      "        67, 58, 72,  0, 54, 67, 57,  0, 55, 74, 67, 73, 65, 62, 67, 58, 72, 11,\n",
      "         0, 44, 61, 58,  0, 78, 68, 74, 67, 60,  0, 72, 54, 62, 65, 68, 71,  0,\n",
      "        60, 54, 75, 58,  0, 54,  0, 65, 68, 68, 64,  0, 73, 68,  0, 72, 58, 58,\n",
      "         0, 73, 61, 54, 73,  0, 61, 62, 72,  0, 68, 71, 57, 58, 71, 72,  0, 76,\n",
      "        58, 71, 58,  0, 25, 72,  0, 74, 72, 74, 54, 65,  9,  0, 54,  0, 69, 62,\n",
      "        65, 68, 73,  0, 69, 74, 73,  0, 68, 59, 59,  0, 62, 66, 66, 58, 57, 62,\n",
      "        54, 73, 58, 65, 78,  9,  0, 54, 67, 57,  0, 71, 68, 74, 67, 57, 62, 67,\n",
      "        60,  0, 73, 61, 58,  0, 69, 71, 68, 66, 69, 73, 65, 78,  0, 54, 67, 57,\n",
      "         0, 54, 56, 56, 74, 71, 54, 73, 58, 65, 78,  0, 68, 55, 58, 78, 58, 57,\n",
      "         9,  0, 54, 67, 57,  0, 73, 61, 58, 67,  0, 73, 74, 71, 67, 58, 57,  0,\n",
      "        54, 60, 54, 62, 67,  0, 73, 68,  0, 27, 61, 54, 73, 58, 54, 74,  0, 57,\n",
      "         5, 33, 59,  9,  0, 60, 68, 73,  0, 68, 67,  0, 55, 68, 54, 71, 57,  0,\n",
      "        73, 61, 58,  0, 75, 58, 72, 72, 58, 65,  0, 55, 58, 73, 76, 58, 58, 67,\n",
      "         0, 27, 54, 69, 58,  0, 37, 68, 71, 60, 62, 68, 67,  0, 73, 61, 58,  0,\n",
      "        68, 76, 67, 58, 71, 11,  0, 54, 67, 57,  0, 42, 62, 68, 67,  0, 62, 72,\n",
      "        65, 54, 67, 57, 11,  0,  2, 25, 67, 57,  0, 61, 68, 76,  0, 57, 62, 57,\n",
      "         0, 73, 61, 62, 72,  0, 66, 62, 72, 59, 68, 71, 73, 74, 67, 58,  0, 68,\n",
      "        56, 56, 74, 71, 24,  2,  0, 62, 67, 70, 74, 62, 71, 58, 57,  0, 73, 61,\n",
      "        58,  0, 65, 54, 73, 73, 58, 71,  9,  0, 33, 66, 66, 58, 57, 62, 54, 73,\n",
      "        58, 65, 78,  9,  0, 54, 67, 57,  0, 54, 56, 56, 68, 71, 57, 62, 67, 60,\n",
      "         0, 73, 68,  0, 56, 74, 72, 73, 68, 66,  9,  0, 73, 61, 58,  0, 71, 54,\n",
      "        66, 69, 54, 71, 73, 72,  0, 68, 59,  0, 30, 68, 71, 73,  0, 71, 58, 72,\n",
      "        74, 66, 62, 67, 60,  0, 73, 61, 58,  0, 62, 67, 73, 58, 71, 71, 74, 69,\n",
      "        73, 58, 57,  0, 56, 68, 67, 75, 58, 71, 72, 54, 73, 62, 68, 67, 11,  0,\n",
      "        43, 54, 62, 67, 73, 10, 34, 58, 54, 67,  0, 76, 58, 71, 58,  0, 56, 68,\n",
      "        75, 58, 71, 58, 57,  0, 76, 62, 73, 61,  0, 72, 69, 58, 56, 73, 54, 73,\n",
      "        68, 71, 72, 23,  0, 62, 73,  0, 62, 72,  0, 54, 65, 76, 54, 78, 72,  0,\n",
      "        54, 67,  0, 58, 75, 58, 67, 73,  0, 54, 73,  0, 37, 54, 71, 72, 58, 62,\n",
      "        65, 65, 58, 72,  0, 59, 68, 71,  0, 54,  0, 72, 61, 62, 69,  0, 73, 68,\n",
      "         0, 56, 68, 66, 58,  0, 62, 67, 73, 68,  0, 69, 68, 71, 73,  9,  0, 58,\n",
      "        72, 69, 58, 56, 62, 54, 65, 65, 78,  0,  2, 25, 65, 54, 72,  9,  0, 72,\n",
      "        62, 71,  9,  0, 62, 67,  0, 73, 61, 58,  0, 66, 68, 72, 73,  0, 74, 67,\n",
      "        58, 77, 69, 58, 56, 73, 58, 57,  0, 66, 54, 67, 67, 58, 71, 11,  0, 25,\n",
      "        59, 73, 58, 71,  0, 54,  0, 65, 68, 67, 60,  0, 73, 54, 65, 64,  0, 76,\n",
      "        61, 58, 67,  0, 73, 61, 62, 72,  0, 72, 61, 62, 69,  9,  0, 65, 62, 64,\n",
      "        58,  0, 73, 61, 58,  0, 40, 61, 54, 71, 54, 68, 67,  9,  0, 61, 54, 72,\n",
      "         0, 55, 58, 58, 67,  0, 55, 74, 62, 65])\n"
     ]
    }
   ],
   "source": [
    "# now we encode the text and store it in a pytorch tensor\n",
    "import torch\n",
    "data = torch.tensor(encode(text), dtype=torch.long)\n",
    "print(data.shape, data.type)\n",
    "print(data[:1000])"
   ]
  },
  {
   "cell_type": "code",
   "execution_count": 31,
   "id": "bdf3659b-9507-4025-8ce0-940708ebdfce",
   "metadata": {},
   "outputs": [],
   "source": [
    "# separating the dataset into a train and a test dataset\n",
    "n = int(0.9*len(data))\n",
    "train_data = data[:n]\n",
    "val_data = data[n:]"
   ]
  },
  {
   "cell_type": "code",
   "execution_count": 32,
   "id": "da051fba-b44c-4c71-97bd-9439b48fa0e8",
   "metadata": {},
   "outputs": [
    {
     "data": {
      "text/plain": [
       "tensor([ 0, 27, 61, 54, 69, 73, 58, 71,  0])"
      ]
     },
     "execution_count": 32,
     "metadata": {},
     "output_type": "execute_result"
    }
   ],
   "source": [
    "block_size = 8\n",
    "train_data[:block_size + 1]"
   ]
  },
  {
   "cell_type": "code",
   "execution_count": 33,
   "id": "b108c473-0d22-4cf5-91b4-390112efcad3",
   "metadata": {},
   "outputs": [
    {
     "name": "stdout",
     "output_type": "stream",
     "text": [
      "when the input is tensor([0]) the target is: 27\n",
      "when the input is tensor([ 0, 27]) the target is: 61\n",
      "when the input is tensor([ 0, 27, 61]) the target is: 54\n",
      "when the input is tensor([ 0, 27, 61, 54]) the target is: 69\n",
      "when the input is tensor([ 0, 27, 61, 54, 69]) the target is: 73\n",
      "when the input is tensor([ 0, 27, 61, 54, 69, 73]) the target is: 58\n",
      "when the input is tensor([ 0, 27, 61, 54, 69, 73, 58]) the target is: 71\n",
      "when the input is tensor([ 0, 27, 61, 54, 69, 73, 58, 71]) the target is: 0\n"
     ]
    }
   ],
   "source": [
    "x = train_data[:block_size]\n",
    "y = train_data[1:block_size + 1]\n",
    "for t in range(block_size):\n",
    "    context = x[:t+1]\n",
    "    target=y[t]\n",
    "    print(f\"when the input is {context} the target is: {target}\")"
   ]
  },
  {
   "cell_type": "code",
   "execution_count": 34,
   "id": "40326a86-359d-4ca5-988c-fc6688872039",
   "metadata": {},
   "outputs": [
    {
     "name": "stdout",
     "output_type": "stream",
     "text": [
      "inputs:\n",
      "torch.Size([4, 8])\n",
      "tensor([[72, 68, 66, 58, 73, 61, 62, 67],\n",
      "        [58,  0, 66, 62, 67, 62, 72, 73],\n",
      "        [61, 62, 66,  0, 53, 58, 77, 56],\n",
      "        [72, 73,  0, 76, 62, 73, 61,  0]])\n",
      "outputs:\n",
      "torch.Size([4, 8])\n",
      "tensor([[68, 66, 58, 73, 61, 62, 67, 60],\n",
      "        [ 0, 66, 62, 67, 62, 72, 73, 58],\n",
      "        [62, 66,  0, 53, 58, 77, 56, 58],\n",
      "        [73,  0, 76, 62, 73, 61,  0, 71]])\n",
      "---\n",
      "when input is [72] the target is: 68\n",
      "when input is [72, 68] the target is: 66\n",
      "when input is [72, 68, 66] the target is: 58\n",
      "when input is [72, 68, 66, 58] the target is: 73\n",
      "when input is [72, 68, 66, 58, 73] the target is: 61\n",
      "when input is [72, 68, 66, 58, 73, 61] the target is: 62\n",
      "when input is [72, 68, 66, 58, 73, 61, 62] the target is: 67\n",
      "when input is [72, 68, 66, 58, 73, 61, 62, 67] the target is: 60\n",
      "when input is [58] the target is: 0\n",
      "when input is [58, 0] the target is: 66\n",
      "when input is [58, 0, 66] the target is: 62\n",
      "when input is [58, 0, 66, 62] the target is: 67\n",
      "when input is [58, 0, 66, 62, 67] the target is: 62\n",
      "when input is [58, 0, 66, 62, 67, 62] the target is: 72\n",
      "when input is [58, 0, 66, 62, 67, 62, 72] the target is: 73\n",
      "when input is [58, 0, 66, 62, 67, 62, 72, 73] the target is: 58\n",
      "when input is [61] the target is: 62\n",
      "when input is [61, 62] the target is: 66\n",
      "when input is [61, 62, 66] the target is: 0\n",
      "when input is [61, 62, 66, 0] the target is: 53\n",
      "when input is [61, 62, 66, 0, 53] the target is: 58\n",
      "when input is [61, 62, 66, 0, 53, 58] the target is: 77\n",
      "when input is [61, 62, 66, 0, 53, 58, 77] the target is: 56\n",
      "when input is [61, 62, 66, 0, 53, 58, 77, 56] the target is: 58\n",
      "when input is [72] the target is: 73\n",
      "when input is [72, 73] the target is: 0\n",
      "when input is [72, 73, 0] the target is: 76\n",
      "when input is [72, 73, 0, 76] the target is: 62\n",
      "when input is [72, 73, 0, 76, 62] the target is: 73\n",
      "when input is [72, 73, 0, 76, 62, 73] the target is: 61\n",
      "when input is [72, 73, 0, 76, 62, 73, 61] the target is: 0\n",
      "when input is [72, 73, 0, 76, 62, 73, 61, 0] the target is: 71\n"
     ]
    }
   ],
   "source": [
    "torch.manual_seed(777)\n",
    "batch_size = 4 # independent sequences\n",
    "block_size = 8 # length of each sequence\n",
    "\n",
    "def get_batch(split):\n",
    "    # generate a small batch of data of inputs x and targets y\n",
    "    data = train_data if split == 'train' else val_data\n",
    "    ix = torch.randint(len(data) - block_size, (batch_size,))\n",
    "    x = torch.stack([data[i:i+block_size] for i in ix])\n",
    "    y = torch.stack([data[i+1:i+block_size+1] for i in ix])\n",
    "    return x,y\n",
    "\n",
    "xb, yb = get_batch('train')\n",
    "print('inputs:')\n",
    "print(xb.shape)\n",
    "print(xb)\n",
    "print('outputs:')\n",
    "print(yb.shape)\n",
    "print(yb)\n",
    "\n",
    "print('---')\n",
    "\n",
    "for b in range(batch_size):\n",
    "    for t in range(block_size):\n",
    "        context = xb[b, :t+1]\n",
    "        target = yb[b,t]\n",
    "        print(f\"when input is {context.tolist()} the target is: {target}\")"
   ]
  },
  {
   "cell_type": "code",
   "execution_count": 35,
   "id": "0717fb11-64f5-4f70-aa67-d2844255d9ba",
   "metadata": {},
   "outputs": [
    {
     "name": "stdout",
     "output_type": "stream",
     "text": [
      "torch.Size([32, 80])\n",
      "tensor(4.9824, grad_fn=<NllLossBackward0>)\n",
      " US]z`B-5W19;SI]3FPPN;p\"$]DQd-5Chtpf-7tP0X;\"EM2*\"E)GdQcAS618KP4IabwFSMQI]EfM*sb(I*]MoHLg\"mnY.9E?\"x7v3dG`WPuM43m,hyJYPu]3x[(2`L6;Mo4uNxAEne[Jd\"$:sY3dX05ZQI1l!kSQt[`WsKb$[,WQE[QlPYrJ,?:!PN(Mxog u]7b($kLF)\"y&p78D-SV34'4!lkTh)Zo8l2VPZ&p;*3Q,Xtn44$vQt.VR)D-w3oEgePSFdM'pOfIuB'yxG:ge29a3S-ZyFzljipt8)2&K[bP0XcS]lQtN5)ZWJ[i\"$p90X.y.b[bi(8fI&IYP'*d8?3dz3rk3&'NqYbry[ Xbv9QI]S-Qt.x8Gd90ipGiEqt[ew8;iBZ UhfHari6\n"
     ]
    }
   ],
   "source": [
    "# setting up the bigram language model\n",
    "import torch\n",
    "import torch.nn as nn\n",
    "from torch.nn import functional as F\n",
    "torch.manual_seed(1337)\n",
    "\n",
    "class BigramLanguageModel(nn.Module):\n",
    "\n",
    "    def __init__(self, vocab_size):\n",
    "        super().__init__()\n",
    "        # each token directly reads off the logits for the next token from a lookup table\n",
    "        self.token_embedding_table = nn.Embedding(vocab_size, vocab_size)\n",
    "\n",
    "    def forward(self, idx, targets=None):\n",
    "\n",
    "        # idx and targets are both (B,T) tensor of integers\n",
    "        logits = self.token_embedding_table(idx) # (B,T,C)\n",
    "\n",
    "        if targets is None:\n",
    "            loss = None\n",
    "        else:\n",
    "            B, T, C = logits.shape\n",
    "            logits = logits.view(B*T, C)\n",
    "            targets = targets.view(B*T)\n",
    "            loss = F.cross_entropy(logits, targets)\n",
    "\n",
    "        return logits, loss\n",
    "\n",
    "    def generate(self, idx, max_new_tokens):\n",
    "        # idx is (B, T) array of indices in the current context\n",
    "        for _ in range(max_new_tokens):\n",
    "            # get the predictions\n",
    "            logits, loss = self(idx)\n",
    "            # focus only on the last time step\n",
    "            logits = logits[:, -1, :] # becomes (B, C)\n",
    "            # apply softmax to get probabilities\n",
    "            probs = F.softmax(logits, dim=-1) # (B, C)\n",
    "            # sample from the distribution\n",
    "            idx_next = torch.multinomial(probs, num_samples=1) # (B, 1)\n",
    "            # append sampled index to the running sequence\n",
    "            idx = torch.cat((idx, idx_next), dim=1) # (B, T+1)\n",
    "        return idx\n",
    "\n",
    "m = BigramLanguageModel(vocab_size)\n",
    "logits, loss = m(xb, yb)\n",
    "print(logits.shape)\n",
    "print(loss)\n",
    "\n",
    "print(decode(m.generate(idx = torch.zeros((1, 1), dtype=torch.long), max_new_tokens=400)[0].tolist()))"
   ]
  },
  {
   "cell_type": "code",
   "execution_count": 36,
   "id": "a4182499-f9eb-44f3-be8b-94b6f12d1258",
   "metadata": {},
   "outputs": [],
   "source": [
    "# we need to train the model to make it make sense\n",
    "\n",
    "# create a PyTorch optimizer\n",
    "optimizer = torch.optim.AdamW(m.parameters(), lr=1e-3)"
   ]
  },
  {
   "cell_type": "code",
   "execution_count": 38,
   "id": "f08471f6-fa1e-4a17-b7b0-53b73ae79dc3",
   "metadata": {},
   "outputs": [
    {
     "name": "stdout",
     "output_type": "stream",
     "text": [
      "2.364097833633423\n"
     ]
    }
   ],
   "source": [
    "batch_size = 32\n",
    "for steps in range(10000): # increase number of steps for good results...\n",
    "\n",
    "    # sample a batch of data\n",
    "    xb, yb = get_batch('train')\n",
    "\n",
    "    # evaluate the loss\n",
    "    logits, loss = m(xb, yb)\n",
    "    optimizer.zero_grad(set_to_none=True)\n",
    "    loss.backward()\n",
    "    optimizer.step()\n",
    "\n",
    "print(loss.item())"
   ]
  },
  {
   "cell_type": "code",
   "execution_count": 17,
   "id": "33dc8b06-51fc-46e8-ba19-6d0d3e44effd",
   "metadata": {},
   "outputs": [
    {
     "name": "stdout",
     "output_type": "stream",
     "text": [
      "\n",
      "E se rearan bed, Edallothe\n",
      "onishe, fot's aslinofontthinounos tivigid visllle han inf ile tncerecatacerdisere h\" ayourthe st - iaulden heartig By h t, we bredive t the oss -ndmy\n",
      "Desplkedensutithaculou f te hein f we they nth `'se E\n",
      "t\n",
      "tu hoffo--rm p'Ex tof the br. yorer; qu adeper-\n",
      "vixpin ul,\n",
      "397\n",
      "ge y otefong a thelofa h yof me fe oreedit e. manig rin `PipalifPThonor I s.\"Bu th ye fer th; ho hard\n",
      "herof ade I iver pe r telyoillompes yelyoure t-urrt.\n",
      "fones s f co n d Nlyng hinere thour py aiect y If\n"
     ]
    }
   ],
   "source": [
    "print(decode(m.generate(idx = torch.zeros((1, 1), dtype=torch.long), max_new_tokens=500)[0].tolist()))"
   ]
  },
  {
   "cell_type": "code",
   "execution_count": 39,
   "id": "70500178-ddf6-4e78-88b9-bca1ad1611fe",
   "metadata": {},
   "outputs": [
    {
     "name": "stdout",
     "output_type": "stream",
     "text": [
      "yes\n"
     ]
    }
   ],
   "source": [
    "if torch.cuda.is_available():\n",
    "    print(\"yes\")"
   ]
  },
  {
   "cell_type": "code",
   "execution_count": null,
   "id": "b9fecf1f-3111-400f-8c2c-a9e021061114",
   "metadata": {},
   "outputs": [],
   "source": []
  }
 ],
 "metadata": {
  "kernelspec": {
   "display_name": "Python 3 (ipykernel)",
   "language": "python",
   "name": "python3"
  },
  "language_info": {
   "codemirror_mode": {
    "name": "ipython",
    "version": 3
   },
   "file_extension": ".py",
   "mimetype": "text/x-python",
   "name": "python",
   "nbconvert_exporter": "python",
   "pygments_lexer": "ipython3",
   "version": "3.11.5"
  }
 },
 "nbformat": 4,
 "nbformat_minor": 5
}
